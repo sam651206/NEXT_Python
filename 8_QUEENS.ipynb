{
  "nbformat": 4,
  "nbformat_minor": 0,
  "metadata": {
    "colab": {
      "name": "8_QUEENS.ipynb",
      "provenance": [],
      "include_colab_link": true
    },
    "kernelspec": {
      "name": "python3",
      "display_name": "Python 3"
    }
  },
  "cells": [
    {
      "cell_type": "markdown",
      "metadata": {
        "id": "view-in-github",
        "colab_type": "text"
      },
      "source": [
        "<a href=\"https://colab.research.google.com/github/sam651206/NEXT_Python/blob/main/8_QUEENS.ipynb\" target=\"_parent\"><img src=\"https://colab.research.google.com/assets/colab-badge.svg\" alt=\"Open In Colab\"/></a>"
      ]
    },
    {
      "cell_type": "markdown",
      "metadata": {
        "id": "YMLmbxWPKu5t"
      },
      "source": [
        "https://colab.research.google.com/drive/11CH6-eI7tg7AsaLhfhk0FgQzaFwln5Yo?usp=sharing"
      ]
    },
    {
      "cell_type": "markdown",
      "metadata": {
        "id": "mZJNAftzeMMP"
      },
      "source": [
        "### 安裝PyEda \r\n",
        "https://pypi.org/project/pyeda/\r\n"
      ]
    },
    {
      "cell_type": "code",
      "metadata": {
        "colab": {
          "base_uri": "https://localhost:8080/"
        },
        "id": "fQCCfST1L49b",
        "outputId": "a7839788-9577-4a7d-94b9-bf6a4ddb05e9"
      },
      "source": [
        "!pip install pyeda"
      ],
      "execution_count": 1,
      "outputs": [
        {
          "output_type": "stream",
          "text": [
            "Collecting pyeda\n",
            "\u001b[?25l  Downloading https://files.pythonhosted.org/packages/01/29/b6ce038a75409239db8762b4744c8b53eb62e0b6240ece1c2969a7250206/pyeda-0.28.0.tar.gz (478kB)\n",
            "\u001b[K     |████████████████████████████████| 481kB 5.9MB/s \n",
            "\u001b[?25hBuilding wheels for collected packages: pyeda\n",
            "  Building wheel for pyeda (setup.py) ... \u001b[?25l\u001b[?25hdone\n",
            "  Created wheel for pyeda: filename=pyeda-0.28.0-cp36-cp36m-linux_x86_64.whl size=542326 sha256=768420b1150961852d03d599c6426dea5ff59ebfb9551d71b17044a68598781c\n",
            "  Stored in directory: /root/.cache/pip/wheels/8e/33/76/efb4411454eb542ca9737cdd60418ec23f3625809738d17871\n",
            "Successfully built pyeda\n",
            "Installing collected packages: pyeda\n",
            "Successfully installed pyeda-0.28.0\n"
          ],
          "name": "stdout"
        }
      ]
    },
    {
      "cell_type": "markdown",
      "metadata": {
        "id": "Sl6OkVFjhcrR"
      },
      "source": [
        "### 導入PyEda interactive session"
      ]
    },
    {
      "cell_type": "code",
      "metadata": {
        "id": "9SDm-mWjL1ak"
      },
      "source": [
        "from pyeda.inter import *"
      ],
      "execution_count": 2,
      "outputs": []
    },
    {
      "cell_type": "markdown",
      "metadata": {
        "id": "WDByeTGch5YQ"
      },
      "source": [
        "X 為設置初始棋盤是8x8的網格,使用二維位向量。\r\n",
        "\r\n",
        "R 設置約束條件，每行(R)必須放置一個皇后。\r\n",
        "\r\n",
        "C 設置約束條件，每列(C)必須放置一個皇后。"
      ]
    },
    {
      "cell_type": "code",
      "metadata": {
        "id": "LuXMM14TMGyX"
      },
      "source": [
        " X =exprvars('x', 8, 8)\r\n",
        " R =And(*[OneHot(*[X[r,c] for c in range(8)]) for r in range(8)])\r\n",
        " C =And(*[OneHot(*[X[r,c] for r in range(8)]) for c in range(8)])"
      ],
      "execution_count": 3,
      "outputs": []
    },
    {
      "cell_type": "markdown",
      "metadata": {
        "id": "Hcd3goMSkZR0"
      },
      "source": [
        "設置獨立集合由下至上,左開始 帶入 DLR 左對角約束條件\r\n"
      ]
    },
    {
      "cell_type": "code",
      "metadata": {
        "id": "6gPVlzwhMhSX"
      },
      "source": [
        "starts = [(i, 0) for i in range(8-2, 0, -1)] + [(0, i) for i in range(8-1)]\r\n",
        "lrdiags = []\r\n",
        "for r, c in starts:\r\n",
        "    lrdiags.append([])\r\n",
        "    ri, ci = r, c\r\n",
        "    while ri < 8 and ci < 8:\r\n",
        "        lrdiags[-1].append((ri, ci))\r\n",
        "        ri += 1\r\n",
        "        ci += 1\r\n",
        "\r\n",
        "DLR = And(*[OneHot0(*[X[r,c] for r, c in diag]) for diag in lrdiags])"
      ],
      "execution_count": 4,
      "outputs": []
    },
    {
      "cell_type": "markdown",
      "metadata": {
        "id": "fz4qBigyljTL"
      },
      "source": [
        "設置獨立集合由下至上,右開始 帶入 DRL 右對角約束條件"
      ]
    },
    {
      "cell_type": "code",
      "metadata": {
        "id": "LPYZM08fM3hj"
      },
      "source": [
        "starts = [(i, 8-1) for i in range(8-2, -1, -1)] + [(0, i) for i in range(8-2, 0, -1)]\r\n",
        "rldiags = []\r\n",
        "for r, c in starts:\r\n",
        "    rldiags.append([])\r\n",
        "    ri, ci = r, c\r\n",
        "    while ri < 8 and ci >= 0:\r\n",
        "        rldiags[-1].append((ri, ci))\r\n",
        "        ri += 1\r\n",
        "        ci -= 1\r\n",
        "\r\n",
        "DRL = And(*[OneHot0(*[X[r,c] for r, c in diag]) for diag in rldiags])"
      ],
      "execution_count": 5,
      "outputs": []
    },
    {
      "cell_type": "markdown",
      "metadata": {
        "id": "k3qU26cIlyfT"
      },
      "source": [
        "S 為使用And(&)將所有約束同時有效。"
      ]
    },
    {
      "cell_type": "code",
      "metadata": {
        "id": "tMbwJuf_M9tL"
      },
      "source": [
        "S = R & C & DLR & DRL"
      ],
      "execution_count": 6,
      "outputs": []
    },
    {
      "cell_type": "markdown",
      "metadata": {
        "id": "-PHs6io_mPFM"
      },
      "source": [
        "定義函數8Queens並使用chars(ASCII)轉換Q與."
      ]
    },
    {
      "cell_type": "code",
      "metadata": {
        "id": "1gXT20FDKxnf"
      },
      "source": [
        "def Queens(point):\r\n",
        "\tchars = list()\r\n",
        "\tfor r in range(8):\r\n",
        "\t    for c in range(8):\r\n",
        "\t        if point[X[r,c]]:\r\n",
        "\t            chars.append(\"Q\")\r\n",
        "\t        else:\r\n",
        "\t            chars.append(\".\")\r\n",
        "\t    if r != 7:\r\n",
        "\t        chars.append(\"\\n\")\r\n",
        "\tprint(\"\".join(chars))"
      ],
      "execution_count": 11,
      "outputs": []
    },
    {
      "cell_type": "markdown",
      "metadata": {
        "id": "585kpQ23nhYV"
      },
      "source": [
        "使用satisfy_one(PicoSAT SAT)的解算器,依據我們帶入的條件約束來取得解法"
      ]
    },
    {
      "cell_type": "code",
      "metadata": {
        "colab": {
          "base_uri": "https://localhost:8080/"
        },
        "id": "n_kRUajYNijV",
        "outputId": "09f925a2-3b44-4aad-e3bb-224a1a5d9846"
      },
      "source": [
        "Queens(S.satisfy_one())"
      ],
      "execution_count": 12,
      "outputs": [
        {
          "output_type": "stream",
          "text": [
            ".......Q\n",
            "...Q....\n",
            "Q.......\n",
            "..Q.....\n",
            ".....Q..\n",
            ".Q......\n",
            "......Q.\n",
            "....Q...\n"
          ],
          "name": "stdout"
        }
      ]
    }
  ]
}